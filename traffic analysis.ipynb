{
 "cells": [
  {
   "cell_type": "markdown",
   "source": [
    "# HEAVY TRAFFIC INDICATORS ON I-94\n",
    "\n",
    " In this project we will be analyzing the [Metro_Interstate_Traffic_Volume.csv](https://archive.ics.uci.edu/ml/datasets/Metro+Interstate+Traffic+Volume) and are going to try and answer some questions like what are some major indicators for the heavy traffic on I-94 which is east–west Interstate Highway connecting the Great Lakes and northern Great Plains regions of the United States."
   ],
   "metadata": {
    "collapsed": false
   }
  },
  {
   "cell_type": "code",
   "execution_count": 1,
   "outputs": [],
   "source": [
    "# Importing some useful libraries\n",
    "import pandas as pd\n",
    "import matplotlib.pyplot as plt\n",
    "%matplotlib inline\n",
    "import seaborn as sns"
   ],
   "metadata": {
    "collapsed": false
   }
  },
  {
   "cell_type": "code",
   "execution_count": 2,
   "outputs": [],
   "source": [
    "# Reading in the csv\n",
    "traffic = pd.read_csv('Metro_Interstate_Traffic_Volume.csv')"
   ],
   "metadata": {
    "collapsed": false
   }
  },
  {
   "cell_type": "code",
   "execution_count": 3,
   "outputs": [
    {
     "data": {
      "text/plain": "  holiday    temp  rain_1h  snow_1h  clouds_all weather_main  \\\n0    None  288.28      0.0      0.0          40       Clouds   \n1    None  289.36      0.0      0.0          75       Clouds   \n2    None  289.58      0.0      0.0          90       Clouds   \n3    None  290.13      0.0      0.0          90       Clouds   \n4    None  291.14      0.0      0.0          75       Clouds   \n\n  weather_description            date_time  traffic_volume  \n0    scattered clouds  2012-10-02 09:00:00            5545  \n1       broken clouds  2012-10-02 10:00:00            4516  \n2     overcast clouds  2012-10-02 11:00:00            4767  \n3     overcast clouds  2012-10-02 12:00:00            5026  \n4       broken clouds  2012-10-02 13:00:00            4918  ",
      "text/html": "<div>\n<style scoped>\n    .dataframe tbody tr th:only-of-type {\n        vertical-align: middle;\n    }\n\n    .dataframe tbody tr th {\n        vertical-align: top;\n    }\n\n    .dataframe thead th {\n        text-align: right;\n    }\n</style>\n<table border=\"1\" class=\"dataframe\">\n  <thead>\n    <tr style=\"text-align: right;\">\n      <th></th>\n      <th>holiday</th>\n      <th>temp</th>\n      <th>rain_1h</th>\n      <th>snow_1h</th>\n      <th>clouds_all</th>\n      <th>weather_main</th>\n      <th>weather_description</th>\n      <th>date_time</th>\n      <th>traffic_volume</th>\n    </tr>\n  </thead>\n  <tbody>\n    <tr>\n      <th>0</th>\n      <td>None</td>\n      <td>288.28</td>\n      <td>0.0</td>\n      <td>0.0</td>\n      <td>40</td>\n      <td>Clouds</td>\n      <td>scattered clouds</td>\n      <td>2012-10-02 09:00:00</td>\n      <td>5545</td>\n    </tr>\n    <tr>\n      <th>1</th>\n      <td>None</td>\n      <td>289.36</td>\n      <td>0.0</td>\n      <td>0.0</td>\n      <td>75</td>\n      <td>Clouds</td>\n      <td>broken clouds</td>\n      <td>2012-10-02 10:00:00</td>\n      <td>4516</td>\n    </tr>\n    <tr>\n      <th>2</th>\n      <td>None</td>\n      <td>289.58</td>\n      <td>0.0</td>\n      <td>0.0</td>\n      <td>90</td>\n      <td>Clouds</td>\n      <td>overcast clouds</td>\n      <td>2012-10-02 11:00:00</td>\n      <td>4767</td>\n    </tr>\n    <tr>\n      <th>3</th>\n      <td>None</td>\n      <td>290.13</td>\n      <td>0.0</td>\n      <td>0.0</td>\n      <td>90</td>\n      <td>Clouds</td>\n      <td>overcast clouds</td>\n      <td>2012-10-02 12:00:00</td>\n      <td>5026</td>\n    </tr>\n    <tr>\n      <th>4</th>\n      <td>None</td>\n      <td>291.14</td>\n      <td>0.0</td>\n      <td>0.0</td>\n      <td>75</td>\n      <td>Clouds</td>\n      <td>broken clouds</td>\n      <td>2012-10-02 13:00:00</td>\n      <td>4918</td>\n    </tr>\n  </tbody>\n</table>\n</div>"
     },
     "execution_count": 3,
     "metadata": {},
     "output_type": "execute_result"
    }
   ],
   "source": [
    "# Getting info about the dataset\n",
    "traffic.head()"
   ],
   "metadata": {
    "collapsed": false
   }
  },
  {
   "cell_type": "code",
   "execution_count": 4,
   "outputs": [
    {
     "data": {
      "text/plain": "      holiday    temp  rain_1h  snow_1h  clouds_all  weather_main  \\\n48199    None  283.45      0.0      0.0          75        Clouds   \n48200    None  282.76      0.0      0.0          90        Clouds   \n48201    None  282.73      0.0      0.0          90  Thunderstorm   \n48202    None  282.09      0.0      0.0          90        Clouds   \n48203    None  282.12      0.0      0.0          90        Clouds   \n\n          weather_description            date_time  traffic_volume  \n48199           broken clouds  2018-09-30 19:00:00            3543  \n48200         overcast clouds  2018-09-30 20:00:00            2781  \n48201  proximity thunderstorm  2018-09-30 21:00:00            2159  \n48202         overcast clouds  2018-09-30 22:00:00            1450  \n48203         overcast clouds  2018-09-30 23:00:00             954  ",
      "text/html": "<div>\n<style scoped>\n    .dataframe tbody tr th:only-of-type {\n        vertical-align: middle;\n    }\n\n    .dataframe tbody tr th {\n        vertical-align: top;\n    }\n\n    .dataframe thead th {\n        text-align: right;\n    }\n</style>\n<table border=\"1\" class=\"dataframe\">\n  <thead>\n    <tr style=\"text-align: right;\">\n      <th></th>\n      <th>holiday</th>\n      <th>temp</th>\n      <th>rain_1h</th>\n      <th>snow_1h</th>\n      <th>clouds_all</th>\n      <th>weather_main</th>\n      <th>weather_description</th>\n      <th>date_time</th>\n      <th>traffic_volume</th>\n    </tr>\n  </thead>\n  <tbody>\n    <tr>\n      <th>48199</th>\n      <td>None</td>\n      <td>283.45</td>\n      <td>0.0</td>\n      <td>0.0</td>\n      <td>75</td>\n      <td>Clouds</td>\n      <td>broken clouds</td>\n      <td>2018-09-30 19:00:00</td>\n      <td>3543</td>\n    </tr>\n    <tr>\n      <th>48200</th>\n      <td>None</td>\n      <td>282.76</td>\n      <td>0.0</td>\n      <td>0.0</td>\n      <td>90</td>\n      <td>Clouds</td>\n      <td>overcast clouds</td>\n      <td>2018-09-30 20:00:00</td>\n      <td>2781</td>\n    </tr>\n    <tr>\n      <th>48201</th>\n      <td>None</td>\n      <td>282.73</td>\n      <td>0.0</td>\n      <td>0.0</td>\n      <td>90</td>\n      <td>Thunderstorm</td>\n      <td>proximity thunderstorm</td>\n      <td>2018-09-30 21:00:00</td>\n      <td>2159</td>\n    </tr>\n    <tr>\n      <th>48202</th>\n      <td>None</td>\n      <td>282.09</td>\n      <td>0.0</td>\n      <td>0.0</td>\n      <td>90</td>\n      <td>Clouds</td>\n      <td>overcast clouds</td>\n      <td>2018-09-30 22:00:00</td>\n      <td>1450</td>\n    </tr>\n    <tr>\n      <th>48203</th>\n      <td>None</td>\n      <td>282.12</td>\n      <td>0.0</td>\n      <td>0.0</td>\n      <td>90</td>\n      <td>Clouds</td>\n      <td>overcast clouds</td>\n      <td>2018-09-30 23:00:00</td>\n      <td>954</td>\n    </tr>\n  </tbody>\n</table>\n</div>"
     },
     "execution_count": 4,
     "metadata": {},
     "output_type": "execute_result"
    }
   ],
   "source": [
    "traffic.tail()"
   ],
   "metadata": {
    "collapsed": false
   }
  },
  {
   "cell_type": "code",
   "execution_count": 5,
   "outputs": [
    {
     "name": "stdout",
     "output_type": "stream",
     "text": [
      "<class 'pandas.core.frame.DataFrame'>\n",
      "RangeIndex: 48204 entries, 0 to 48203\n",
      "Data columns (total 9 columns):\n",
      " #   Column               Non-Null Count  Dtype  \n",
      "---  ------               --------------  -----  \n",
      " 0   holiday              48204 non-null  object \n",
      " 1   temp                 48204 non-null  float64\n",
      " 2   rain_1h              48204 non-null  float64\n",
      " 3   snow_1h              48204 non-null  float64\n",
      " 4   clouds_all           48204 non-null  int64  \n",
      " 5   weather_main         48204 non-null  object \n",
      " 6   weather_description  48204 non-null  object \n",
      " 7   date_time            48204 non-null  object \n",
      " 8   traffic_volume       48204 non-null  int64  \n",
      "dtypes: float64(3), int64(2), object(4)\n",
      "memory usage: 3.3+ MB\n"
     ]
    }
   ],
   "source": [
    "traffic.info(verbose=True, show_counts=True)"
   ],
   "metadata": {
    "collapsed": false
   }
  },
  {
   "cell_type": "markdown",
   "source": [
    "\n",
    "It seems that all the values in the dataframe are non-null. There are a total of 8 columns.\n",
    "The official documentation also say that the data was station that is located midway between Minneapolis and Saint Paul.\n",
    "It is also important to note that the data recorded is only for westbound traffic and should not be generalized for the whole I-94 highway. You can read the official documentation [here](https://archive.ics.uci.edu/ml/datasets/Metro+Interstate+Traffic+Volume)"
   ],
   "metadata": {
    "collapsed": false
   }
  },
  {
   "cell_type": "markdown",
   "source": [
    "### We are now going to start with visual analysis"
   ],
   "metadata": {
    "collapsed": false
   }
  },
  {
   "cell_type": "code",
   "execution_count": 6,
   "outputs": [
    {
     "data": {
      "text/plain": "<Figure size 640x480 with 1 Axes>",
      "image/png": "[encoded data removed]"
     },
     "metadata": {},
     "output_type": "display_data"
    }
   ],
   "source": [
    "traffic['traffic_volume'].plot.hist()\n",
    "plt.show()"
   ],
   "metadata": {
    "collapsed": false
   }
  },
  {
   "cell_type": "code",
   "execution_count": 7,
   "outputs": [
    {
     "data": {
      "text/plain": "count    48204.000000\nmean      3259.818355\nstd       1986.860670\nmin          0.000000\n25%       1193.000000\n50%       3380.000000\n75%       4933.000000\nmax       7280.000000\nName: traffic_volume, dtype: float64"
     },
     "execution_count": 7,
     "metadata": {},
     "output_type": "execute_result"
    }
   ],
   "source": [
    "traffic['traffic_volume'].describe()"
   ],
   "metadata": {
    "collapsed": false
   }
  },
  {
   "cell_type": "markdown",
   "source": [
    "Between 2012-10-02 09:00:00 and 2018-09-30 23:00:00 there traffic ranged between (0, 7280). At least one day when the traffic recorded was 0 which might suggest the I-94 might be under construction and hence no traffic recorded, or it could mean that the traffic was diverted just before crossing the recording station. The above values suggest that 25% of the time there was only 1193 traffic and another 25% of the time had a volume of 4933 which is more that 4 times the earlier one. This difference could be because of nighttime and daytime traffic."
   ],
   "metadata": {
    "collapsed": false
   }
  },
  {
   "cell_type": "markdown",
   "source": [
    "## DAYTIME VS NIGHTTIME"
   ],
   "metadata": {
    "collapsed": false
   }
  },
  {
   "cell_type": "markdown",
   "source": [
    "We have to first divide out dataset into sets now one that contains info about the daytime and other about the nighttime.\n",
    "We will take 7:00 A.M. to 7:00 P.M. as daytime and 7:00 P.M. to 7:00 A.M. as nighttime.\n"
   ],
   "metadata": {
    "collapsed": false
   }
  },
  {
   "cell_type": "code",
   "execution_count": 8,
   "outputs": [
    {
     "data": {
      "text/plain": "0   2012-10-02 09:00:00\n1   2012-10-02 10:00:00\n2   2012-10-02 11:00:00\n3   2012-10-02 12:00:00\n4   2012-10-02 13:00:00\nName: date_time, dtype: datetime64[ns]"
     },
     "execution_count": 8,
     "metadata": {},
     "output_type": "execute_result"
    }
   ],
   "source": [
    "traffic['date_time']= pd.to_datetime(traffic['date_time'])\n",
    "traffic['date_time'].head()"
   ],
   "metadata": {
    "collapsed": false
   }
  },
  {
   "cell_type": "code",
   "execution_count": 10,
   "outputs": [
    {
     "data": {
      "text/plain": "      holiday    temp  rain_1h  snow_1h  clouds_all  weather_main  \\\n10       None  290.97      0.0      0.0          20        Clouds   \n11       None  289.38      0.0      0.0           1         Clear   \n12       None  288.61      0.0      0.0           1         Clear   \n13       None  287.16      0.0      0.0           1         Clear   \n14       None  285.45      0.0      0.0           1         Clear   \n...       ...     ...      ...      ...         ...           ...   \n48199    None  283.45      0.0      0.0          75        Clouds   \n48200    None  282.76      0.0      0.0          90        Clouds   \n48201    None  282.73      0.0      0.0          90  Thunderstorm   \n48202    None  282.09      0.0      0.0          90        Clouds   \n48203    None  282.12      0.0      0.0          90        Clouds   \n\n          weather_description           date_time  traffic_volume  \n10                 few clouds 2012-10-02 19:00:00            3539  \n11               sky is clear 2012-10-02 20:00:00            2784  \n12               sky is clear 2012-10-02 21:00:00            2361  \n13               sky is clear 2012-10-02 22:00:00            1529  \n14               sky is clear 2012-10-02 23:00:00             963  \n...                       ...                 ...             ...  \n48199           broken clouds 2018-09-30 19:00:00            3543  \n48200         overcast clouds 2018-09-30 20:00:00            2781  \n48201  proximity thunderstorm 2018-09-30 21:00:00            2159  \n48202         overcast clouds 2018-09-30 22:00:00            1450  \n48203         overcast clouds 2018-09-30 23:00:00             954  \n\n[24327 rows x 9 columns]",
      "text/html": "<div>\n<style scoped>\n    .dataframe tbody tr th:only-of-type {\n        vertical-align: middle;\n    }\n\n    .dataframe tbody tr th {\n        vertical-align: top;\n    }\n\n    .dataframe thead th {\n        text-align: right;\n    }\n</style>\n<table border=\"1\" class=\"dataframe\">\n  <thead>\n    <tr style=\"text-align: right;\">\n      <th></th>\n      <th>holiday</th>\n      <th>temp</th>\n      <th>rain_1h</th>\n      <th>snow_1h</th>\n      <th>clouds_all</th>\n      <th>weather_main</th>\n      <th>weather_description</th>\n      <th>date_time</th>\n      <th>traffic_volume</th>\n    </tr>\n  </thead>\n  <tbody>\n    <tr>\n      <th>10</th>\n      <td>None</td>\n      <td>290.97</td>\n      <td>0.0</td>\n      <td>0.0</td>\n      <td>20</td>\n      <td>Clouds</td>\n      <td>few clouds</td>\n      <td>2012-10-02 19:00:00</td>\n      <td>3539</td>\n    </tr>\n    <tr>\n      <th>11</th>\n      <td>None</td>\n      <td>289.38</td>\n      <td>0.0</td>\n      <td>0.0</td>\n      <td>1</td>\n      <td>Clear</td>\n      <td>sky is clear</td>\n      <td>2012-10-02 20:00:00</td>\n      <td>2784</td>\n    </tr>\n    <tr>\n      <th>12</th>\n      <td>None</td>\n      <td>288.61</td>\n      <td>0.0</td>\n      <td>0.0</td>\n      <td>1</td>\n      <td>Clear</td>\n      <td>sky is clear</td>\n      <td>2012-10-02 21:00:00</td>\n      <td>2361</td>\n    </tr>\n    <tr>\n      <th>13</th>\n      <td>None</td>\n      <td>287.16</td>\n      <td>0.0</td>\n      <td>0.0</td>\n      <td>1</td>\n      <td>Clear</td>\n      <td>sky is clear</td>\n      <td>2012-10-02 22:00:00</td>\n      <td>1529</td>\n    </tr>\n    <tr>\n      <th>14</th>\n      <td>None</td>\n      <td>285.45</td>\n      <td>0.0</td>\n      <td>0.0</td>\n      <td>1</td>\n      <td>Clear</td>\n      <td>sky is clear</td>\n      <td>2012-10-02 23:00:00</td>\n      <td>963</td>\n    </tr>\n    <tr>\n      <th>...</th>\n      <td>...</td>\n      <td>...</td>\n      <td>...</td>\n      <td>...</td>\n      <td>...</td>\n      <td>...</td>\n      <td>...</td>\n      <td>...</td>\n      <td>...</td>\n    </tr>\n    <tr>\n      <th>48199</th>\n      <td>None</td>\n      <td>283.45</td>\n      <td>0.0</td>\n      <td>0.0</td>\n      <td>75</td>\n      <td>Clouds</td>\n      <td>broken clouds</td>\n      <td>2018-09-30 19:00:00</td>\n      <td>3543</td>\n    </tr>\n    <tr>\n      <th>48200</th>\n      <td>None</td>\n      <td>282.76</td>\n      <td>0.0</td>\n      <td>0.0</td>\n      <td>90</td>\n      <td>Clouds</td>\n      <td>overcast clouds</td>\n      <td>2018-09-30 20:00:00</td>\n      <td>2781</td>\n    </tr>\n    <tr>\n      <th>48201</th>\n      <td>None</td>\n      <td>282.73</td>\n      <td>0.0</td>\n      <td>0.0</td>\n      <td>90</td>\n      <td>Thunderstorm</td>\n      <td>proximity thunderstorm</td>\n      <td>2018-09-30 21:00:00</td>\n      <td>2159</td>\n    </tr>\n    <tr>\n      <th>48202</th>\n      <td>None</td>\n      <td>282.09</td>\n      <td>0.0</td>\n      <td>0.0</td>\n      <td>90</td>\n      <td>Clouds</td>\n      <td>overcast clouds</td>\n      <td>2018-09-30 22:00:00</td>\n      <td>1450</td>\n    </tr>\n    <tr>\n      <th>48203</th>\n      <td>None</td>\n      <td>282.12</td>\n      <td>0.0</td>\n      <td>0.0</td>\n      <td>90</td>\n      <td>Clouds</td>\n      <td>overcast clouds</td>\n      <td>2018-09-30 23:00:00</td>\n      <td>954</td>\n    </tr>\n  </tbody>\n</table>\n<p>24327 rows × 9 columns</p>\n</div>"
     },
     "execution_count": 10,
     "metadata": {},
     "output_type": "execute_result"
    }
   ],
   "source": [
    "nighttime = traffic[(traffic['date_time'].dt.hour >= 19)  | (traffic['date_time'].dt.hour < 7)]\n",
    "nighttime"
   ],
   "metadata": {
    "collapsed": false
   }
  },
  {
   "cell_type": "markdown",
   "source": [
    "This project is on hold and is waiting for an answer on stackoverflow\n",
    "The question has been answered and above we are using bitwise or and not logical or because we are comparing two boolean lists and not one variable hence we need to use bitwise to compare each element in the list.\n",
    "The question is [here](https://stackoverflow.com/questions/74783261/condition-for-determining-day-or-night-when-using-datetime-module-in-python)"
   ],
   "metadata": {
    "collapsed": false
   }
  },
  {
   "cell_type": "code",
   "execution_count": 12,
   "outputs": [
    {
     "data": {
      "text/plain": "      holiday    temp  rain_1h  snow_1h  clouds_all weather_main  \\\n0        None  288.28     0.00      0.0          40       Clouds   \n1        None  289.36     0.00      0.0          75       Clouds   \n2        None  289.58     0.00      0.0          90       Clouds   \n3        None  290.13     0.00      0.0          90       Clouds   \n4        None  291.14     0.00      0.0          75       Clouds   \n...       ...     ...      ...      ...         ...          ...   \n48194    None  283.84     0.00      0.0          75         Rain   \n48195    None  283.84     0.00      0.0          75      Drizzle   \n48196    None  284.38     0.00      0.0          75         Rain   \n48197    None  284.79     0.00      0.0          75       Clouds   \n48198    None  284.20     0.25      0.0          75         Rain   \n\n           weather_description           date_time  traffic_volume  \n0             scattered clouds 2012-10-02 09:00:00            5545  \n1                broken clouds 2012-10-02 10:00:00            4516  \n2              overcast clouds 2012-10-02 11:00:00            4767  \n3              overcast clouds 2012-10-02 12:00:00            5026  \n4                broken clouds 2012-10-02 13:00:00            4918  \n...                        ...                 ...             ...  \n48194    proximity shower rain 2018-09-30 15:00:00            4302  \n48195  light intensity drizzle 2018-09-30 15:00:00            4302  \n48196               light rain 2018-09-30 16:00:00            4283  \n48197            broken clouds 2018-09-30 17:00:00            4132  \n48198               light rain 2018-09-30 18:00:00            3947  \n\n[23877 rows x 9 columns]",
      "text/html": "<div>\n<style scoped>\n    .dataframe tbody tr th:only-of-type {\n        vertical-align: middle;\n    }\n\n    .dataframe tbody tr th {\n        vertical-align: top;\n    }\n\n    .dataframe thead th {\n        text-align: right;\n    }\n</style>\n<table border=\"1\" class=\"dataframe\">\n  <thead>\n    <tr style=\"text-align: right;\">\n      <th></th>\n      <th>holiday</th>\n      <th>temp</th>\n      <th>rain_1h</th>\n      <th>snow_1h</th>\n      <th>clouds_all</th>\n      <th>weather_main</th>\n      <th>weather_description</th>\n      <th>date_time</th>\n      <th>traffic_volume</th>\n    </tr>\n  </thead>\n  <tbody>\n    <tr>\n      <th>0</th>\n      <td>None</td>\n      <td>288.28</td>\n      <td>0.00</td>\n      <td>0.0</td>\n      <td>40</td>\n      <td>Clouds</td>\n      <td>scattered clouds</td>\n      <td>2012-10-02 09:00:00</td>\n      <td>5545</td>\n    </tr>\n    <tr>\n      <th>1</th>\n      <td>None</td>\n      <td>289.36</td>\n      <td>0.00</td>\n      <td>0.0</td>\n      <td>75</td>\n      <td>Clouds</td>\n      <td>broken clouds</td>\n      <td>2012-10-02 10:00:00</td>\n      <td>4516</td>\n    </tr>\n    <tr>\n      <th>2</th>\n      <td>None</td>\n      <td>289.58</td>\n      <td>0.00</td>\n      <td>0.0</td>\n      <td>90</td>\n      <td>Clouds</td>\n      <td>overcast clouds</td>\n      <td>2012-10-02 11:00:00</td>\n      <td>4767</td>\n    </tr>\n    <tr>\n      <th>3</th>\n      <td>None</td>\n      <td>290.13</td>\n      <td>0.00</td>\n      <td>0.0</td>\n      <td>90</td>\n      <td>Clouds</td>\n      <td>overcast clouds</td>\n      <td>2012-10-02 12:00:00</td>\n      <td>5026</td>\n    </tr>\n    <tr>\n      <th>4</th>\n      <td>None</td>\n      <td>291.14</td>\n      <td>0.00</td>\n      <td>0.0</td>\n      <td>75</td>\n      <td>Clouds</td>\n      <td>broken clouds</td>\n      <td>2012-10-02 13:00:00</td>\n      <td>4918</td>\n    </tr>\n    <tr>\n      <th>...</th>\n      <td>...</td>\n      <td>...</td>\n      <td>...</td>\n      <td>...</td>\n      <td>...</td>\n      <td>...</td>\n      <td>...</td>\n      <td>...</td>\n      <td>...</td>\n    </tr>\n    <tr>\n      <th>48194</th>\n      <td>None</td>\n      <td>283.84</td>\n      <td>0.00</td>\n      <td>0.0</td>\n      <td>75</td>\n      <td>Rain</td>\n      <td>proximity shower rain</td>\n      <td>2018-09-30 15:00:00</td>\n      <td>4302</td>\n    </tr>\n    <tr>\n      <th>48195</th>\n      <td>None</td>\n      <td>283.84</td>\n      <td>0.00</td>\n      <td>0.0</td>\n      <td>75</td>\n      <td>Drizzle</td>\n      <td>light intensity drizzle</td>\n      <td>2018-09-30 15:00:00</td>\n      <td>4302</td>\n    </tr>\n    <tr>\n      <th>48196</th>\n      <td>None</td>\n      <td>284.38</td>\n      <td>0.00</td>\n      <td>0.0</td>\n      <td>75</td>\n      <td>Rain</td>\n      <td>light rain</td>\n      <td>2018-09-30 16:00:00</td>\n      <td>4283</td>\n    </tr>\n    <tr>\n      <th>48197</th>\n      <td>None</td>\n      <td>284.79</td>\n      <td>0.00</td>\n      <td>0.0</td>\n      <td>75</td>\n      <td>Clouds</td>\n      <td>broken clouds</td>\n      <td>2018-09-30 17:00:00</td>\n      <td>4132</td>\n    </tr>\n    <tr>\n      <th>48198</th>\n      <td>None</td>\n      <td>284.20</td>\n      <td>0.25</td>\n      <td>0.0</td>\n      <td>75</td>\n      <td>Rain</td>\n      <td>light rain</td>\n      <td>2018-09-30 18:00:00</td>\n      <td>3947</td>\n    </tr>\n  </tbody>\n</table>\n<p>23877 rows × 9 columns</p>\n</div>"
     },
     "execution_count": 12,
     "metadata": {},
     "output_type": "execute_result"
    }
   ],
   "source": [
    "daytime = traffic[(traffic['date_time'].dt.hour < 19)  & (traffic['date_time'].dt.hour >= 7)]\n",
    "daytime"
   ],
   "metadata": {
    "collapsed": false
   }
  },
  {
   "cell_type": "markdown",
   "source": [
    "### Now we are going to plot the traffic volume side by side on a histogram"
   ],
   "metadata": {
    "collapsed": false
   }
  },
  {
   "cell_type": "code",
   "execution_count": 14,
   "outputs": [
    {
     "data": {
      "text/plain": "<Figure size 1100x350 with 2 Axes>",
      "image/png": "[encoded data removed]"
     },
     "metadata": {},
     "output_type": "display_data"
    }
   ],
   "source": [
    "plt.figure(figsize=(11,3.5))\n",
    "\n",
    "plt.subplot(1, 2, 1)\n",
    "plt.hist(daytime['traffic_volume'])\n",
    "plt.xlim(-100, 7500)\n",
    "plt.ylim(0, 8000)\n",
    "plt.title('Traffic Volume: Day')\n",
    "plt.ylabel('Frequency')\n",
    "plt.xlabel('Traffic Volume')\n",
    "\n",
    "plt.subplot(1, 2, 2)\n",
    "plt.hist(nighttime['traffic_volume'])\n",
    "plt.xlim(-100, 7500)\n",
    "plt.ylim(0, 8000)\n",
    "plt.title('Traffic Volume: Night')\n",
    "plt.ylabel('Frequency')\n",
    "plt.xlabel('Traffic Volume')\n",
    "\n",
    "plt.show()"
   ],
   "metadata": {
    "collapsed": false
   }
  },
  {
   "cell_type": "code",
   "execution_count": null,
   "outputs": [],
   "source": [],
   "metadata": {
    "collapsed": false
   }
  }
 ],
 "metadata": {
  "kernelspec": {
   "display_name": "Python 3",
   "language": "python",
   "name": "python3"
  },
  "language_info": {
   "codemirror_mode": {
    "name": "ipython",
    "version": 2
   },
   "file_extension": ".py",
   "mimetype": "text/x-python",
   "name": "python",
   "nbconvert_exporter": "python",
   "pygments_lexer": "ipython2",
   "version": "2.7.6"
  }
 },
 "nbformat": 4,
 "nbformat_minor": 0
}
