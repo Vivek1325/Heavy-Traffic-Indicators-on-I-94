{
 "cells": [
  {
   "cell_type": "markdown",
   "source": [
    "# HEAVY TRAFFIC INDICATORS ON I-94\n",
    "\n",
    " In this project we will be analyzing the [Metro_Interstate_Traffic_Volume.csv](https://archive.ics.uci.edu/ml/datasets/Metro+Interstate+Traffic+Volume) and are going to try and answer some questions like what are some major indicators for the heavy traffic on I-94 which is east–west Interstate Highway connecting the Great Lakes and northern Great Plains regions of the United States."
   ],
   "metadata": {
    "collapsed": false
   }
  },
  {
   "cell_type": "code",
   "execution_count": 14,
   "outputs": [],
   "source": [
    "# Importing some useful libraries\n",
    "import pandas as pd\n",
    "import matplotlib.pyplot as plt\n",
    "%matplotlib inline\n",
    "import seaborn as sns"
   ],
   "metadata": {
    "collapsed": false
   }
  },
  {
   "cell_type": "code",
   "execution_count": 2,
   "outputs": [],
   "source": [
    "# Reading in the csv\n",
    "traffic = pd.read_csv('Metro_Interstate_Traffic_Volume.csv')"
   ],
   "metadata": {
    "collapsed": false
   }
  },
  {
   "cell_type": "code",
   "execution_count": 3,
   "outputs": [
    {
     "data": {
      "text/plain": "  holiday    temp  rain_1h  snow_1h  clouds_all weather_main  \\\n0    None  288.28      0.0      0.0          40       Clouds   \n1    None  289.36      0.0      0.0          75       Clouds   \n2    None  289.58      0.0      0.0          90       Clouds   \n3    None  290.13      0.0      0.0          90       Clouds   \n4    None  291.14      0.0      0.0          75       Clouds   \n\n  weather_description            date_time  traffic_volume  \n0    scattered clouds  2012-10-02 09:00:00            5545  \n1       broken clouds  2012-10-02 10:00:00            4516  \n2     overcast clouds  2012-10-02 11:00:00            4767  \n3     overcast clouds  2012-10-02 12:00:00            5026  \n4       broken clouds  2012-10-02 13:00:00            4918  ",
      "text/html": "<div>\n<style scoped>\n    .dataframe tbody tr th:only-of-type {\n        vertical-align: middle;\n    }\n\n    .dataframe tbody tr th {\n        vertical-align: top;\n    }\n\n    .dataframe thead th {\n        text-align: right;\n    }\n</style>\n<table border=\"1\" class=\"dataframe\">\n  <thead>\n    <tr style=\"text-align: right;\">\n      <th></th>\n      <th>holiday</th>\n      <th>temp</th>\n      <th>rain_1h</th>\n      <th>snow_1h</th>\n      <th>clouds_all</th>\n      <th>weather_main</th>\n      <th>weather_description</th>\n      <th>date_time</th>\n      <th>traffic_volume</th>\n    </tr>\n  </thead>\n  <tbody>\n    <tr>\n      <th>0</th>\n      <td>None</td>\n      <td>288.28</td>\n      <td>0.0</td>\n      <td>0.0</td>\n      <td>40</td>\n      <td>Clouds</td>\n      <td>scattered clouds</td>\n      <td>2012-10-02 09:00:00</td>\n      <td>5545</td>\n    </tr>\n    <tr>\n      <th>1</th>\n      <td>None</td>\n      <td>289.36</td>\n      <td>0.0</td>\n      <td>0.0</td>\n      <td>75</td>\n      <td>Clouds</td>\n      <td>broken clouds</td>\n      <td>2012-10-02 10:00:00</td>\n      <td>4516</td>\n    </tr>\n    <tr>\n      <th>2</th>\n      <td>None</td>\n      <td>289.58</td>\n      <td>0.0</td>\n      <td>0.0</td>\n      <td>90</td>\n      <td>Clouds</td>\n      <td>overcast clouds</td>\n      <td>2012-10-02 11:00:00</td>\n      <td>4767</td>\n    </tr>\n    <tr>\n      <th>3</th>\n      <td>None</td>\n      <td>290.13</td>\n      <td>0.0</td>\n      <td>0.0</td>\n      <td>90</td>\n      <td>Clouds</td>\n      <td>overcast clouds</td>\n      <td>2012-10-02 12:00:00</td>\n      <td>5026</td>\n    </tr>\n    <tr>\n      <th>4</th>\n      <td>None</td>\n      <td>291.14</td>\n      <td>0.0</td>\n      <td>0.0</td>\n      <td>75</td>\n      <td>Clouds</td>\n      <td>broken clouds</td>\n      <td>2012-10-02 13:00:00</td>\n      <td>4918</td>\n    </tr>\n  </tbody>\n</table>\n</div>"
     },
     "execution_count": 3,
     "metadata": {},
     "output_type": "execute_result"
    }
   ],
   "source": [
    "# Getting info about the dataset\n",
    "traffic.head()"
   ],
   "metadata": {
    "collapsed": false
   }
  },
  {
   "cell_type": "code",
   "execution_count": 4,
   "outputs": [
    {
     "data": {
      "text/plain": "      holiday    temp  rain_1h  snow_1h  clouds_all  weather_main  \\\n48199    None  283.45      0.0      0.0          75        Clouds   \n48200    None  282.76      0.0      0.0          90        Clouds   \n48201    None  282.73      0.0      0.0          90  Thunderstorm   \n48202    None  282.09      0.0      0.0          90        Clouds   \n48203    None  282.12      0.0      0.0          90        Clouds   \n\n          weather_description            date_time  traffic_volume  \n48199           broken clouds  2018-09-30 19:00:00            3543  \n48200         overcast clouds  2018-09-30 20:00:00            2781  \n48201  proximity thunderstorm  2018-09-30 21:00:00            2159  \n48202         overcast clouds  2018-09-30 22:00:00            1450  \n48203         overcast clouds  2018-09-30 23:00:00             954  ",
      "text/html": "<div>\n<style scoped>\n    .dataframe tbody tr th:only-of-type {\n        vertical-align: middle;\n    }\n\n    .dataframe tbody tr th {\n        vertical-align: top;\n    }\n\n    .dataframe thead th {\n        text-align: right;\n    }\n</style>\n<table border=\"1\" class=\"dataframe\">\n  <thead>\n    <tr style=\"text-align: right;\">\n      <th></th>\n      <th>holiday</th>\n      <th>temp</th>\n      <th>rain_1h</th>\n      <th>snow_1h</th>\n      <th>clouds_all</th>\n      <th>weather_main</th>\n      <th>weather_description</th>\n      <th>date_time</th>\n      <th>traffic_volume</th>\n    </tr>\n  </thead>\n  <tbody>\n    <tr>\n      <th>48199</th>\n      <td>None</td>\n      <td>283.45</td>\n      <td>0.0</td>\n      <td>0.0</td>\n      <td>75</td>\n      <td>Clouds</td>\n      <td>broken clouds</td>\n      <td>2018-09-30 19:00:00</td>\n      <td>3543</td>\n    </tr>\n    <tr>\n      <th>48200</th>\n      <td>None</td>\n      <td>282.76</td>\n      <td>0.0</td>\n      <td>0.0</td>\n      <td>90</td>\n      <td>Clouds</td>\n      <td>overcast clouds</td>\n      <td>2018-09-30 20:00:00</td>\n      <td>2781</td>\n    </tr>\n    <tr>\n      <th>48201</th>\n      <td>None</td>\n      <td>282.73</td>\n      <td>0.0</td>\n      <td>0.0</td>\n      <td>90</td>\n      <td>Thunderstorm</td>\n      <td>proximity thunderstorm</td>\n      <td>2018-09-30 21:00:00</td>\n      <td>2159</td>\n    </tr>\n    <tr>\n      <th>48202</th>\n      <td>None</td>\n      <td>282.09</td>\n      <td>0.0</td>\n      <td>0.0</td>\n      <td>90</td>\n      <td>Clouds</td>\n      <td>overcast clouds</td>\n      <td>2018-09-30 22:00:00</td>\n      <td>1450</td>\n    </tr>\n    <tr>\n      <th>48203</th>\n      <td>None</td>\n      <td>282.12</td>\n      <td>0.0</td>\n      <td>0.0</td>\n      <td>90</td>\n      <td>Clouds</td>\n      <td>overcast clouds</td>\n      <td>2018-09-30 23:00:00</td>\n      <td>954</td>\n    </tr>\n  </tbody>\n</table>\n</div>"
     },
     "execution_count": 4,
     "metadata": {},
     "output_type": "execute_result"
    }
   ],
   "source": [
    "traffic.tail()"
   ],
   "metadata": {
    "collapsed": false
   }
  },
  {
   "cell_type": "code",
   "execution_count": 11,
   "outputs": [
    {
     "name": "stdout",
     "output_type": "stream",
     "text": [
      "<class 'pandas.core.frame.DataFrame'>\n",
      "RangeIndex: 48204 entries, 0 to 48203\n",
      "Data columns (total 9 columns):\n",
      " #   Column               Non-Null Count  Dtype  \n",
      "---  ------               --------------  -----  \n",
      " 0   holiday              48204 non-null  object \n",
      " 1   temp                 48204 non-null  float64\n",
      " 2   rain_1h              48204 non-null  float64\n",
      " 3   snow_1h              48204 non-null  float64\n",
      " 4   clouds_all           48204 non-null  int64  \n",
      " 5   weather_main         48204 non-null  object \n",
      " 6   weather_description  48204 non-null  object \n",
      " 7   date_time            48204 non-null  object \n",
      " 8   traffic_volume       48204 non-null  int64  \n",
      "dtypes: float64(3), int64(2), object(4)\n",
      "memory usage: 3.3+ MB\n"
     ]
    }
   ],
   "source": [
    "traffic.info(verbose=True, show_counts=True)"
   ],
   "metadata": {
    "collapsed": false
   }
  },
  {
   "cell_type": "markdown",
   "source": [
    "\n",
    "It seems that all the values in the dataframe are non-null. There are a total of 8 columns.\n",
    "The official documentation also say that the data was station that is located midway between Minneapolis and Saint Paul.\n",
    "It is also important to note that the data recorded is only for westbound traffic and should not be generalized for the whole I-94 highway. You can read the official documentation [here](https://archive.ics.uci.edu/ml/datasets/Metro+Interstate+Traffic+Volume)"
   ],
   "metadata": {
    "collapsed": false
   }
  },
  {
   "cell_type": "markdown",
   "source": [
    "### We are now going to start with visual analysis"
   ],
   "metadata": {
    "collapsed": false
   }
  },
  {
   "cell_type": "code",
   "execution_count": 16,
   "outputs": [
    {
     "data": {
      "text/plain": "<Figure size 640x480 with 1 Axes>",
      "image/png": "[encoded data removed]"
     },
     "metadata": {},
     "output_type": "display_data"
    }
   ],
   "source": [
    "traffic['traffic_volume'].plot.hist()\n",
    "plt.show()"
   ],
   "metadata": {
    "collapsed": false
   }
  },
  {
   "cell_type": "code",
   "execution_count": 17,
   "outputs": [
    {
     "data": {
      "text/plain": "count    48204.000000\nmean      3259.818355\nstd       1986.860670\nmin          0.000000\n25%       1193.000000\n50%       3380.000000\n75%       4933.000000\nmax       7280.000000\nName: traffic_volume, dtype: float64"
     },
     "execution_count": 17,
     "metadata": {},
     "output_type": "execute_result"
    }
   ],
   "source": [
    "traffic['traffic_volume'].describe()"
   ],
   "metadata": {
    "collapsed": false
   }
  },
  {
   "cell_type": "markdown",
   "source": [
    "Between 2012-10-02 09:00:00 and 2018-09-30 23:00:00 there traffic ranged between (0, 7280). At least one day when the traffic recorded was 0 which might suggest the I-94 might be under construction and hence no traffic recorded, or it could mean that the traffic was diverted just before crossing the recording station. The above values suggest that 25% of the time there was only 1193 traffic and another 25% of the time had a volume of 4933 which is more that 4 times the earlier one. This difference could be because of nighttime and daytime traffic."
   ],
   "metadata": {
    "collapsed": false
   }
  },
  {
   "cell_type": "markdown",
   "source": [
    "## DAYTIME VS NIGHTTIME"
   ],
   "metadata": {
    "collapsed": false
   }
  },
  {
   "cell_type": "markdown",
   "source": [
    "We have to first divide out dataset into sets now one that contains info about the daytime and other about the nighttime.\n",
    "We will take 7:00 A.M. to 7:00 P.M. as daytime and 7:00 P.M. to 7:00 A.M. as nighttime.\n"
   ],
   "metadata": {
    "collapsed": false
   }
  },
  {
   "cell_type": "code",
   "execution_count": 19,
   "outputs": [
    {
     "data": {
      "text/plain": "0   2012-10-02 09:00:00\n1   2012-10-02 10:00:00\n2   2012-10-02 11:00:00\n3   2012-10-02 12:00:00\n4   2012-10-02 13:00:00\nName: date_time, dtype: datetime64[ns]"
     },
     "execution_count": 19,
     "metadata": {},
     "output_type": "execute_result"
    }
   ],
   "source": [
    "traffic['date_time']= pd.to_datetime(traffic['date_time'])\n",
    "traffic['date_time'].head()"
   ],
   "metadata": {
    "collapsed": false
   }
  },
  {
   "cell_type": "code",
   "execution_count": 29,
   "outputs": [
    {
     "ename": "ValueError",
     "evalue": "The truth value of a Series is ambiguous. Use a.empty, a.bool(), a.item(), a.any() or a.all().",
     "output_type": "error",
     "traceback": [
      "\u001B[1;31m---------------------------------------------------------------------------\u001B[0m",
      "\u001B[1;31mValueError\u001B[0m                                Traceback (most recent call last)",
      "Cell \u001B[1;32mIn [29], line 1\u001B[0m\n\u001B[1;32m----> 1\u001B[0m nighttime \u001B[38;5;241m=\u001B[39m traffic[(traffic[\u001B[38;5;124m'\u001B[39m\u001B[38;5;124mdate_time\u001B[39m\u001B[38;5;124m'\u001B[39m]\u001B[38;5;241m.\u001B[39mdt\u001B[38;5;241m.\u001B[39mhour \u001B[38;5;241m>\u001B[39m\u001B[38;5;241m=\u001B[39m \u001B[38;5;241m19\u001B[39m)  \u001B[38;5;129;01mor\u001B[39;00m (traffic[\u001B[38;5;124m'\u001B[39m\u001B[38;5;124mdate_time\u001B[39m\u001B[38;5;124m'\u001B[39m]\u001B[38;5;241m.\u001B[39mdt\u001B[38;5;241m.\u001B[39mhour \u001B[38;5;241m<\u001B[39m \u001B[38;5;241m7\u001B[39m)]\n",
      "File \u001B[1;32mE:\\env\\env\\lib\\site-packages\\pandas\\core\\generic.py:1527\u001B[0m, in \u001B[0;36mNDFrame.__nonzero__\u001B[1;34m(self)\u001B[0m\n\u001B[0;32m   1525\u001B[0m \u001B[38;5;129m@final\u001B[39m\n\u001B[0;32m   1526\u001B[0m \u001B[38;5;28;01mdef\u001B[39;00m \u001B[38;5;21m__nonzero__\u001B[39m(\u001B[38;5;28mself\u001B[39m) \u001B[38;5;241m-\u001B[39m\u001B[38;5;241m>\u001B[39m NoReturn:\n\u001B[1;32m-> 1527\u001B[0m     \u001B[38;5;28;01mraise\u001B[39;00m \u001B[38;5;167;01mValueError\u001B[39;00m(\n\u001B[0;32m   1528\u001B[0m         \u001B[38;5;124mf\u001B[39m\u001B[38;5;124m\"\u001B[39m\u001B[38;5;124mThe truth value of a \u001B[39m\u001B[38;5;132;01m{\u001B[39;00m\u001B[38;5;28mtype\u001B[39m(\u001B[38;5;28mself\u001B[39m)\u001B[38;5;241m.\u001B[39m\u001B[38;5;18m__name__\u001B[39m\u001B[38;5;132;01m}\u001B[39;00m\u001B[38;5;124m is ambiguous. \u001B[39m\u001B[38;5;124m\"\u001B[39m\n\u001B[0;32m   1529\u001B[0m         \u001B[38;5;124m\"\u001B[39m\u001B[38;5;124mUse a.empty, a.bool(), a.item(), a.any() or a.all().\u001B[39m\u001B[38;5;124m\"\u001B[39m\n\u001B[0;32m   1530\u001B[0m     )\n",
      "\u001B[1;31mValueError\u001B[0m: The truth value of a Series is ambiguous. Use a.empty, a.bool(), a.item(), a.any() or a.all()."
     ]
    }
   ],
   "source": [
    "nighttime = traffic[(traffic['date_time'].dt.hour >= 19)  or (traffic['date_time'].dt.hour < 7)]"
   ],
   "metadata": {
    "collapsed": false
   }
  },
  {
   "cell_type": "markdown",
   "source": [
    "This project is on hold and is waiting for an answer on stackoverflow"
   ],
   "metadata": {
    "collapsed": false
   }
  },
  {
   "cell_type": "code",
   "execution_count": null,
   "outputs": [],
   "source": [],
   "metadata": {
    "collapsed": false
   }
  }
 ],
 "metadata": {
  "kernelspec": {
   "display_name": "Python 3",
   "language": "python",
   "name": "python3"
  },
  "language_info": {
   "codemirror_mode": {
    "name": "ipython",
    "version": 2
   },
   "file_extension": ".py",
   "mimetype": "text/x-python",
   "name": "python",
   "nbconvert_exporter": "python",
   "pygments_lexer": "ipython2",
   "version": "2.7.6"
  }
 },
 "nbformat": 4,
 "nbformat_minor": 0
}
